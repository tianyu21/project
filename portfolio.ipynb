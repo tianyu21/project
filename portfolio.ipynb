{
 "cells": [
  {
   "cell_type": "markdown",
   "metadata": {},
   "source": [
    "# Video game database"
   ]
  },
  {
   "cell_type": "markdown",
   "metadata": {},
   "source": [
    "Since the 1980s, video games have become an increasingly important part of the entertainment industry, and whether they are also a form of art is a matter of dispute.\n",
    "With the growth of the market of video game, the development teams became more and more huge. Typically, a video game console development team can range in sizes of anywhere from 5 to 50 people, with some teams exceeding 100. \n",
    "\n",
    "In this case, we create a video game database for both development team and video game player. On the one hand, this database including game information and review which can provide a feedback to publisher. On the other hand, video game player can easily choose game from given information and have better game \n"
   ]
  },
  {
   "cell_type": "markdown",
   "metadata": {},
   "source": [
    "The first step is to use social media api to get data"
   ]
  },
  {
   "cell_type": "code",
   "execution_count": null,
   "metadata": {},
   "outputs": [],
   "source": [
    "import twitter\n",
    "import json\n",
    "import pandas as pd\n",
    "CONSUMER_KEY = \"40M3D2d9haFTmWiHUOqO3Wx7p\"  \n",
    "CONSUMER_SECRET = \"FYdSd8Jcr5OmwQclQ1q1QwPLTwbVw3fX8Z35igJfqzmzLZp8d3\"  \n",
    "OAUTH_TOKEN = \"1103068796036759552-iNLmsLjgYBODHZ1RcZBdsHG7g3d5wt\"  \n",
    "OAUTH_TOKEN_SECRET = \"STv0EL4lsyamXzIYy6CZRE2wmml3toKuXQd5QDIV6nKtZ\"  \n",
    "\n",
    "\n",
    "api = twitter.Api(consumer_key=CONSUMER_KEY,\n",
    "                      consumer_secret=CONSUMER_SECRET,\n",
    "                      access_token_key=OAUTH_TOKEN,\n",
    "                      access_token_secret=OAUTH_TOKEN_SECRET)\n",
    "#authentic the api"
   ]
  },
  {
   "cell_type": "code",
   "execution_count": null,
   "metadata": {},
   "outputs": [],
   "source": [
    "public_posts =[]\n",
    "for i,x in enumerate(api.GetSearch(term='overwatch',count = 100)):\n",
    "    public_tweet=dict()\n",
    "    public_tweet['name'] = json.loads(str(x))['user']['name']\n",
    "    public_tweet['id'] = json.loads(str(x))['id']\n",
    "    public_tweet['followers'] = json.loads(str(x))['user']['followers_count']\n",
    "    public_tweet['post'] = json.loads(str(x))['text']\n",
    "    try: public_tweet['favourites'] = json.loads(str(x))['favorite_count']\n",
    "    except: public_tweet['favourites'] = 0\n",
    "    if         public_tweet['favourites'] == 0:\n",
    "        try: public_tweet['favourites']=json.loads(str(x))['user']['favourites_count']\n",
    "        except:public_tweet['favourites'] = 0\n",
    "    try:public_tweet['retweet'] = json.loads(str(x))['retweet_count']\n",
    "    except:public_tweet['retweet']=0\n",
    "    public_tweet['hashtag'] = json.loads(str(x))['hashtags']\n",
    "    public_tweet['statuses'] = json.loads(str(x))['user']['statuses_count']\n",
    "    public_tweet['created_at'] = json.loads(str(x))['created_at']\n",
    "    public_posts.append(public_tweet)\n",
    "#get post which include'overwatch',return 100 results.And, save it in the arries"
   ]
  },
  {
   "cell_type": "code",
   "execution_count": null,
   "metadata": {},
   "outputs": [],
   "source": [
    "public_tweets_df = pd.DataFrame(public_posts)\n",
    "public_tweets_df = public_tweets_df[['id','name','post','followers','created_at','retweet','favourites','statuses','hashtag']]\n",
    "public_tweets_df\n",
    "#use pandas, save it in the schema"
   ]
  },
  {
   "cell_type": "code",
   "execution_count": null,
   "metadata": {},
   "outputs": [],
   "source": [
    "public_tweets_df.to_csv(\"overwatch\",index=False,sep=',')\n",
    "#saved as csv"
   ]
  },
  {
   "cell_type": "code",
   "execution_count": null,
   "metadata": {},
   "outputs": [],
   "source": [
    "SCREEN_NAME=\"playoverwatch\"\n",
    "results = api.GetUserTimeline(screen_name=SCREEN_NAME,count = 100)\n",
    "\n",
    "posts =[]\n",
    "favourites =[]\n",
    "retweets = []\n",
    "time = []\n",
    "user_id = []\n",
    "name = []\n",
    "followers = []\n",
    "hashtags = []\n",
    "\n",
    "for each in results:\n",
    "    status = json.loads(str(each))\n",
    "    posts.append(status['text'])\n",
    "    try:\n",
    "        favourites.append(status['favorite_count'])\n",
    "    except:\n",
    "        favourites.append(status['retweeted_status']['favorite_count'])\n",
    "    \n",
    "    try: retweets.append(status['retweet_count'])\n",
    "    except: retweets.append('0')\n",
    "    time.append(status['created_at'])\n",
    "    user_id.append(status['user']['id'])\n",
    "    followers.append(status['user']['followers_count'])\n",
    "    name.append(status['user']['name'])\n",
    "    try:\n",
    "        hashtags.append(status['hashtags'][0]['text'])\n",
    "    except:\n",
    "        hashtags.append(status['hashtags'])\n",
    "\n",
    "print([s for s in posts])\n",
    "\n",
    "#get information from 'playhearthstone' homepage"
   ]
  },
  {
   "cell_type": "code",
   "execution_count": null,
   "metadata": {},
   "outputs": [],
   "source": [
    "import pandas as pd\n",
    "df_1 = pd.DataFrame(data = name, columns = ['Name'])\n",
    "df_1['User_id'] = user_id\n",
    "df_1['Followers'] = followers\n",
    "df_1['Post'] = posts\n",
    "df_1['Hashtags'] = hashtags\n",
    "df_1['Posted_time'] = time\n",
    "df_1['Favourites'] = favourites\n",
    "df_1['retweets'] = retweets\n",
    "#saved in the schema"
   ]
  },
  {
   "cell_type": "code",
   "execution_count": null,
   "metadata": {},
   "outputs": [],
   "source": [
    "df_1.to_csv(\"overwatchpage\",index=False,sep=',')#saved in csv"
   ]
  },
  {
   "cell_type": "markdown",
   "metadata": {},
   "source": [
    "# 10 Use cases"
   ]
  },
  {
   "cell_type": "code",
   "execution_count": null,
   "metadata": {},
   "outputs": [],
   "source": []
  },
  {
   "cell_type": "code",
   "execution_count": null,
   "metadata": {},
   "outputs": [],
   "source": []
  },
  {
   "cell_type": "code",
   "execution_count": null,
   "metadata": {},
   "outputs": [],
   "source": []
  },
  {
   "cell_type": "code",
   "execution_count": null,
   "metadata": {},
   "outputs": [],
   "source": []
  },
  {
   "cell_type": "code",
   "execution_count": null,
   "metadata": {},
   "outputs": [],
   "source": []
  }
 ],
 "metadata": {
  "kernelspec": {
   "display_name": "Python 3",
   "language": "python",
   "name": "python3"
  },
  "language_info": {
   "codemirror_mode": {
    "name": "ipython",
    "version": 3
   },
   "file_extension": ".py",
   "mimetype": "text/x-python",
   "name": "python",
   "nbconvert_exporter": "python",
   "pygments_lexer": "ipython3",
   "version": "3.7.1"
  }
 },
 "nbformat": 4,
 "nbformat_minor": 2
}
